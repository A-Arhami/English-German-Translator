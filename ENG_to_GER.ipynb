{
  "nbformat": 4,
  "nbformat_minor": 0,
  "metadata": {
    "kernelspec": {
      "display_name": "Python 3",
      "language": "python",
      "name": "python3"
    },
    "language_info": {
      "codemirror_mode": {
        "name": "ipython",
        "version": 3
      },
      "file_extension": ".py",
      "mimetype": "text/x-python",
      "name": "python",
      "nbconvert_exporter": "python",
      "pygments_lexer": "ipython3",
      "version": "3.7.1"
    },
    "colab": {
      "name": "Capstone Project.ipynb",
      "provenance": [],
      "collapsed_sections": [],
      "include_colab_link": true
    }
  },
  "cells": [
    {
      "cell_type": "markdown",
      "metadata": {
        "id": "view-in-github",
        "colab_type": "text"
      },
      "source": [
        "<a href=\"https://colab.research.google.com/github/A-Arhami/English-German-Translator/blob/main/ENG_to_GER.ipynb\" target=\"_parent\"><img src=\"https://colab.research.google.com/assets/colab-badge.svg\" alt=\"Open In Colab\"/></a>"
      ]
    },
    {
      "cell_type": "markdown",
      "metadata": {
        "id": "Aio4AmPiEYyT"
      },
      "source": [
        "# Neural translation model\n",
        "\n",
        "In this notebook, a neural network have been implemented that translates from English to German.\n",
        "![Flags overview image](data/germany_uk_flags.png)\n",
        "\n",
        "For the capstone project, I'm using a language dataset from http://www.manythings.org/anki/ to build a neural translation model. This dataset consists of over 200,000 pairs of sentences in English and German. In order to make the training quicker, I will restrict to our dataset to 20,000 pairs.\n",
        "\n",
        "\n",
        "\n"
      ]
    },
    {
      "cell_type": "code",
      "metadata": {
        "id": "rYW_Xkg8EYyj"
      },
      "source": [
        "import tensorflow as tf\n",
        "import tensorflow_hub as hub\n",
        "import unicodedata\n",
        "import re\n",
        "import numpy as np\n",
        "import sklearn\n",
        "from sklearn.model_selection import train_test_split\n"
      ],
      "execution_count": null,
      "outputs": []
    },
    {
      "cell_type": "code",
      "metadata": {
        "colab": {
          "base_uri": "https://localhost:8080/"
        },
        "id": "ARVqcYRiEYyr",
        "outputId": "622bfa94-d2cc-4d5e-b629-2a60c61f5e29"
      },
      "source": [
        "# Run this cell to load the dataset\n",
        "\n",
        "NUM_EXAMPLES = 20000\n",
        "data_examples = []\n",
        "from google.colab import drive\n",
        "drive.mount('/content/drive')\n",
        "with open('/content/drive/My Drive/DIGI/deu.txt', 'r', encoding='utf8') as f:\n",
        "    for line in f.readlines():\n",
        "        if len(data_examples) < NUM_EXAMPLES:\n",
        "            data_examples.append(line)\n",
        "        else:\n",
        "            break"
      ],
      "execution_count": null,
      "outputs": [
        {
          "output_type": "stream",
          "name": "stdout",
          "text": [
            "Drive already mounted at /content/drive; to attempt to forcibly remount, call drive.mount(\"/content/drive\", force_remount=True).\n"
          ]
        }
      ]
    },
    {
      "cell_type": "code",
      "metadata": {
        "id": "xoJUETQ4EYyt"
      },
      "source": [
        "# These functions preprocess English and German sentences\n",
        "\n",
        "def unicode_to_ascii(s):\n",
        "    return ''.join(c for c in unicodedata.normalize('NFD', s) if unicodedata.category(c) != 'Mn')\n",
        "\n",
        "def preprocess_sentence(sentence):\n",
        "    sentence = sentence.lower().strip()\n",
        "    sentence = re.sub(r\"ü\", 'ue', sentence)\n",
        "    sentence = re.sub(r\"ä\", 'ae', sentence)\n",
        "    sentence = re.sub(r\"ö\", 'oe', sentence)\n",
        "    sentence = re.sub(r'ß', 'ss', sentence)\n",
        "    \n",
        "    sentence = unicode_to_ascii(sentence)\n",
        "    sentence = re.sub(r\"([?.!,])\", r\" \\1 \", sentence)\n",
        "    sentence = re.sub(r\"[^a-z?.!,']+\", \" \", sentence)\n",
        "    sentence = re.sub(r'[\" \"]+', \" \", sentence)\n",
        "    \n",
        "    return sentence.strip()"
      ],
      "execution_count": null,
      "outputs": []
    },
    {
      "cell_type": "markdown",
      "metadata": {
        "id": "yiEMYn60EYyw"
      },
      "source": [
        "#### The custom translation model\n",
        "The following is a schematic of the custom translation model architecture I have developed in this project.\n",
        "\n",
        "![Model Schematic](data/neural_translation_model.png)\n",
        "\n",
        "Key:\n",
        "![Model key](data/neural_translation_model_key.png)\n",
        "\n",
        "The custom model consists of an encoder RNN and a decoder RNN. The encoder takes words of an English sentence as input, and uses a pre-trained word embedding to embed the words into a 128-dimensional space. To indicate the end of the input sentence, a special end token (in the same 128-dimensional space) is passed in as an input. This token is a TensorFlow Variable that is learned in the training phase (unlike the pre-trained word embedding, which is frozen).\n",
        "\n",
        "The decoder RNN takes the internal state of the encoder network as its initial state. A start token is passed in as the first input, which is embedded using a learned German word embedding. The decoder RNN then makes a prediction for the next German word, which during inference is then passed in as the following input, and this process is repeated until the special `<end>` token is emitted from the decoder."
      ]
    },
    {
      "cell_type": "markdown",
      "metadata": {
        "id": "lmTEyMshEYy0"
      },
      "source": [
        "## 1. Text preprocessing\n",
        "* Creating separate lists of English and German sentences, and preprocess them using the `preprocess_sentence` function provided above.\n",
        "* Adding a special `\"<start>\"` and `\"<end>\"` token to the beginning and end of every German sentence.\n",
        "*  tokenizing the German sentences\n",
        "* Padding the end of the tokenized German sequences with zeros, and batching the complete set of sequences into one numpy array."
      ]
    },
    {
      "cell_type": "code",
      "metadata": {
        "scrolled": true,
        "id": "bJUFVsAsEYy3"
      },
      "source": [
        "X=[]\n",
        "Y=[]\n",
        "for x in data_examples:\n",
        "    x=x.split('\\t')\n",
        "    X.append(preprocess_sentence(x[0]))\n",
        "    Y.append(\"<start>\"+\" \"+preprocess_sentence(x[1])+\" \"+\"<end>\")\n",
        "\n",
        "    "
      ],
      "execution_count": null,
      "outputs": []
    },
    {
      "cell_type": "code",
      "metadata": {
        "id": "CTgLcMk9EYy5"
      },
      "source": [
        "tokenizer = tf.keras.preprocessing.text.Tokenizer(num_words=None, \n",
        "                                                  filters=[])\n",
        "tokenizer.fit_on_texts(Y)\n",
        "Y_seq= tokenizer.texts_to_sequences(Y)"
      ],
      "execution_count": null,
      "outputs": []
    },
    {
      "cell_type": "code",
      "metadata": {
        "colab": {
          "base_uri": "https://localhost:8080/"
        },
        "id": "hy8eXGq2EYy8",
        "outputId": "166f0da9-1a11-412e-f63f-6442f079e984"
      },
      "source": [
        "for i in np.random.rand(5)*NUM_EXAMPLES:\n",
        "    print (X[int(i)],Y[int(i)],\"\\n\",Y_seq[int(i)])"
      ],
      "execution_count": null,
      "outputs": [
        {
          "output_type": "stream",
          "name": "stdout",
          "text": [
            "pick it up . <start> hebe es auf . <end> \n",
            " [1, 1819, 10, 29, 3, 2]\n",
            "you're not alone . <start> du bist nicht allein . <end> \n",
            " [1, 13, 32, 12, 139, 3, 2]\n",
            "what gives ? <start> was ist los ? <end> \n",
            " [1, 38, 6, 207, 7, 2]\n",
            "can you show me ? <start> kannst du es mir zeigen ? <end> \n",
            " [1, 109, 13, 10, 21, 709, 7, 2]\n",
            "why is this ? <start> woran liegt das ? <end> \n",
            " [1, 3383, 353, 11, 7, 2]\n"
          ]
        }
      ]
    },
    {
      "cell_type": "code",
      "metadata": {
        "id": "G93s7fGFEYzA"
      },
      "source": [
        "Y_seq_padded=tf.keras.preprocessing.sequence.pad_sequences(Y_seq,20,padding='post')"
      ],
      "execution_count": null,
      "outputs": []
    },
    {
      "cell_type": "code",
      "metadata": {
        "id": "GPNnU-J8EYzB"
      },
      "source": [
        ""
      ],
      "execution_count": null,
      "outputs": []
    },
    {
      "cell_type": "code",
      "metadata": {
        "id": "oaOxlOx6EYzC"
      },
      "source": [
        ""
      ],
      "execution_count": null,
      "outputs": []
    },
    {
      "cell_type": "markdown",
      "metadata": {
        "id": "J4-yvlnPEYzD"
      },
      "source": [
        "## 2. Prepare the data with tf.data.Dataset objects"
      ]
    },
    {
      "cell_type": "markdown",
      "metadata": {
        "id": "cFUweXleEYzF"
      },
      "source": [
        "#### Load the embedding layer\n",
        "As part of the dataset preproceessing for this project, I will use a pre-trained English word embedding module from TensorFlow Hub. The URL for the module is https://tfhub.dev/google/tf2-preview/nnlm-en-dim128-with-normalization/1. \n"
      ]
    },
    {
      "cell_type": "code",
      "metadata": {
        "id": "ch_KIN1GEYzH"
      },
      "source": [
        "# Load embedding module from Tensorflow Hub\n",
        "embedding_layer = hub.load(\"https://tfhub.dev/google/tf2-preview/nnlm-en-dim128-with-normalization/1\")"
      ],
      "execution_count": null,
      "outputs": []
    },
    {
      "cell_type": "code",
      "metadata": {
        "colab": {
          "base_uri": "https://localhost:8080/"
        },
        "id": "9nO0YVnsEYzI",
        "outputId": "c7e0bdca-6e6f-49e7-8bb9-af97a248ead7"
      },
      "source": [
        "# Test the layer\n",
        "\n",
        "embedding_layer(tf.constant([\"these\", \"aren't\", \"the\", \"droids\", \"you're\", \"looking\", \"for\"])).shape"
      ],
      "execution_count": null,
      "outputs": [
        {
          "output_type": "execute_result",
          "data": {
            "text/plain": [
              "TensorShape([7, 128])"
            ]
          },
          "metadata": {},
          "execution_count": 78
        }
      ]
    },
    {
      "cell_type": "code",
      "metadata": {
        "id": "QUPbvWWxEYzK"
      },
      "source": [
        "x_train,x_test,y_train,y_test= train_test_split(X,Y_seq_padded,train_size=0.8 )\n",
        "def list_to_dataset(x,y):\n",
        "    return tf.data.Dataset.from_tensor_slices((x,y))\n",
        "train_data=list_to_dataset(x_train,y_train)\n",
        "test_data=list_to_dataset(x_test,y_test)"
      ],
      "execution_count": null,
      "outputs": []
    },
    {
      "cell_type": "code",
      "metadata": {
        "id": "ZKXNidB7EYzM"
      },
      "source": [
        "def map_split(dataset):\n",
        "\n",
        "\n",
        "    def map_func(x, y):\n",
        "\n",
        "        x = tf.strings.split(x)\n",
        "\n",
        "        return (x,y)\n",
        "    mapped_dataset = dataset.map(map_func)\n",
        "    return mapped_dataset    \n",
        "\n",
        "train_data=map_split(train_data)\n",
        "test_data=map_split(test_data)\n",
        "\n",
        "def map_func1(x, y):\n",
        "\n",
        "    x = embedding_layer(x)\n",
        "\n",
        "    return (x,y)\n",
        "\n",
        "train_data = train_data.map(map_func1)\n",
        "test_data = test_data.map(map_func1)\n",
        "\n",
        "\n",
        "train_data = train_data.filter(lambda x, y : len(x) < 14) \n",
        "test_data = test_data.filter(lambda x, y : len(x) < 14) \n",
        "\n",
        "\n",
        "def map_13(x, y): \n",
        "\n",
        "    paddings = tf.constant([[13, 0,], [0, 0]]) \n",
        "\n",
        "    new_x = tf.pad(x, paddings) \n",
        "\n",
        "    return (new_x[-13:,:], y) \n",
        "\n",
        "train_data = train_data.map(map_13) \n",
        "test_data = test_data.map(map_13)"
      ],
      "execution_count": null,
      "outputs": []
    },
    {
      "cell_type": "code",
      "metadata": {
        "colab": {
          "base_uri": "https://localhost:8080/"
        },
        "id": "Wd1o-PRFEYzN",
        "outputId": "4e79fe5f-5f31-490d-f1e8-9e5038d82d54"
      },
      "source": [
        "train_data=train_data.batch(16)\n",
        "test_data=test_data.batch(16)\n",
        "\n",
        "train_data.element_spec , test_data.element_spec"
      ],
      "execution_count": null,
      "outputs": [
        {
          "output_type": "execute_result",
          "data": {
            "text/plain": [
              "((TensorSpec(shape=(None, None, 128), dtype=tf.float32, name=None),\n",
              "  TensorSpec(shape=(None, 20), dtype=tf.int32, name=None)),\n",
              " (TensorSpec(shape=(None, None, 128), dtype=tf.float32, name=None),\n",
              "  TensorSpec(shape=(None, 20), dtype=tf.int32, name=None)))"
            ]
          },
          "metadata": {},
          "execution_count": 81
        }
      ]
    },
    {
      "cell_type": "code",
      "metadata": {
        "id": "9C8fGVh8EYzO"
      },
      "source": [
        "for feature_batch, label_batch in train_data.take(1):\n",
        "    x_t = feature_batch\n",
        "    y_t = label_batch"
      ],
      "execution_count": null,
      "outputs": []
    },
    {
      "cell_type": "code",
      "metadata": {
        "colab": {
          "base_uri": "https://localhost:8080/"
        },
        "id": "YyxMDqNFEYzP",
        "outputId": "20097d31-9a50-44a9-ef84-bfa782ee489b"
      },
      "source": [
        "print ('ENglish data example Shape in training set {}, GErman data example in validation set {}'.format(x_t.shape,y_t.shape))\n",
        "for feature_batch, label_batch in train_data.take(1):\n",
        "    print (label_batch)\n"
      ],
      "execution_count": null,
      "outputs": [
        {
          "output_type": "stream",
          "name": "stdout",
          "text": [
            "ENglish data example Shape in training set (16, 13, 128), GErman data example in validation set (16, 20)\n",
            "tf.Tensor(\n",
            "[[   1    4   18   40  368  641    9    2    0    0    0    0    0    0\n",
            "     0    0    0    0    0    0]\n",
            " [   1  393    5   65   75    9    2    0    0    0    0    0    0    0\n",
            "     0    0    0    0    0    0]\n",
            " [   1    8   35   31  116    3    2    0    0    0    0    0    0    0\n",
            "     0    0    0    0    0    0]\n",
            " [   1    5  136    3    2    0    0    0    0    0    0    0    0    0\n",
            "     0    0    0    0    0    0]\n",
            " [   1    4 1043   22   29    5    3    2    0    0    0    0    0    0\n",
            "     0    0    0    0    0    0]\n",
            " [   1  216    8   10    3    2    0    0    0    0    0    0    0    0\n",
            "     0    0    0    0    0    0]\n",
            " [   1   26 1621    6  187    3    2    0    0    0    0    0    0    0\n",
            "     0    0    0    0    0    0]\n",
            " [   1   70  893   21  211  366    9    2    0    0    0    0    0    0\n",
            "     0    0    0    0    0    0]\n",
            " [   1   13   32   62  138    3    2    0    0    0    0    0    0    0\n",
            "     0    0    0    0    0    0]\n",
            " [   1    4   18   44   80  346    3    2    0    0    0    0    0    0\n",
            "     0    0    0    0    0    0]\n",
            " [   1    5   16   34 1809    3    2    0    0    0    0    0    0    0\n",
            "     0    0    0    0    0    0]\n",
            " [   1   10    6 3950    3    2    0    0    0    0    0    0    0    0\n",
            "     0    0    0    0    0    0]\n",
            " [   1   14  197   10    3    2    0    0    0    0    0    0    0    0\n",
            "     0    0    0    0    0    0]\n",
            " [   1    5   16   11  101    3    2    0    0    0    0    0    0    0\n",
            "     0    0    0    0    0    0]\n",
            " [   1   11    6   60  398    3    2    0    0    0    0    0    0    0\n",
            "     0    0    0    0    0    0]\n",
            " [   1   35    8  129    7    2    0    0    0    0    0    0    0    0\n",
            "     0    0    0    0    0    0]], shape=(16, 20), dtype=int32)\n"
          ]
        }
      ]
    },
    {
      "cell_type": "markdown",
      "metadata": {
        "id": "bN4ULZKHEYzQ"
      },
      "source": [
        "## 3. Create the custom layer\n",
        "You will now create a custom layer to add the learned end token embedding to the encoder model:\n",
        "\n",
        "![Encoder schematic](data/neural_translation_model_encoder.png)"
      ]
    },
    {
      "cell_type": "code",
      "metadata": {
        "id": "cdVpwYLhEYzV"
      },
      "source": [
        "class custom_layer(tf.keras.layers.Layer):\n",
        "\n",
        "    def __init__(self, embedding_dim=128, **kwargs):\n",
        "        super(custom_layer, self).__init__(**kwargs)\n",
        "        self.end_token_E = tf.Variable(initial_value=tf.random.uniform(shape=(embedding_dim,)), trainable=True)\n",
        "\n",
        "    def call(self, inputs):\n",
        "        end_token = tf.tile(tf.reshape(self.end_token_E, shape=(1, 1, self.end_token_E.shape[0])), [tf.shape(inputs)[0],1,1])\n",
        "        return tf.keras.layers.concatenate([inputs, end_token], axis=1)"
      ],
      "execution_count": null,
      "outputs": []
    },
    {
      "cell_type": "code",
      "metadata": {
        "id": "-CUYhNC_EYzW",
        "colab": {
          "base_uri": "https://localhost:8080/"
        },
        "outputId": "8ba232f3-b206-4203-ae2b-611795f866a9"
      },
      "source": [
        "for feature_batch, label_batch in train_data.take(1):\n",
        "    x_t = custom_layer()(feature_batch)\n",
        "    print (\"befor:\", feature_batch.shape,\"after:\",x_t.shape)"
      ],
      "execution_count": null,
      "outputs": [
        {
          "output_type": "stream",
          "name": "stdout",
          "text": [
            "befor: (16, 13, 128) after: (16, 14, 128)\n"
          ]
        }
      ]
    },
    {
      "cell_type": "code",
      "metadata": {
        "id": "D2S7gW-KEYzX"
      },
      "source": [
        ""
      ],
      "execution_count": null,
      "outputs": []
    },
    {
      "cell_type": "markdown",
      "metadata": {
        "id": "VYKXk29xEYzX"
      },
      "source": [
        "## 4. Build the encoder network\n",
        "The encoder network follows the schematic diagram above."
      ]
    },
    {
      "cell_type": "code",
      "metadata": {
        "id": "D28W9IyKEYzY"
      },
      "source": [
        "def Encoder():\n",
        "    inputs = tf.keras.Input((13,128))\n",
        "    h = custom_layer()(inputs)\n",
        "    h = tf.keras.layers.Masking(mask_value=0)(h)\n",
        "    lstm, hidden_state, cell_state = tf.keras.layers.LSTM(512, return_sequences=True, return_state=True)(inputs)\n",
        "    encoder_model = tf.keras.models.Model(inputs=inputs, outputs= [hidden_state, cell_state])\n",
        "    return encoder_model"
      ],
      "execution_count": null,
      "outputs": []
    },
    {
      "cell_type": "code",
      "metadata": {
        "id": "dsErEOXGEYzZ"
      },
      "source": [
        "for feature_batch, label_batch in train_data.take(1):\n",
        "    x_t = feature_batch\n",
        "\n"
      ],
      "execution_count": null,
      "outputs": []
    },
    {
      "cell_type": "code",
      "metadata": {
        "colab": {
          "base_uri": "https://localhost:8080/"
        },
        "id": "towRPWMqEYza",
        "outputId": "855ec56e-74ac-42f3-ba4c-f3257f3805b7"
      },
      "source": [
        "encoder=Encoder()\n",
        "hidden_state, cell_state = encoder(x_t)\n",
        "print ('encoder outputs shape:', hidden_state.shape,cell_state.shape)\n",
        "encoder.summary()"
      ],
      "execution_count": null,
      "outputs": [
        {
          "output_type": "stream",
          "name": "stdout",
          "text": [
            "encoder outputs shape: (16, 512) (16, 512)\n",
            "Model: \"model_30\"\n",
            "_________________________________________________________________\n",
            "Layer (type)                 Output Shape              Param #   \n",
            "=================================================================\n",
            "input_31 (InputLayer)        [(None, 13, 128)]         0         \n",
            "_________________________________________________________________\n",
            "lstm_76 (LSTM)               [(None, 13, 512), (None,  1312768   \n",
            "=================================================================\n",
            "Total params: 1,312,768\n",
            "Trainable params: 1,312,768\n",
            "Non-trainable params: 0\n",
            "_________________________________________________________________\n"
          ]
        }
      ]
    },
    {
      "cell_type": "markdown",
      "metadata": {
        "id": "MQTZ7eEuEYzb"
      },
      "source": [
        "## 5. Build the decoder network\n",
        "The decoder network follows the schematic diagram below. \n",
        "\n",
        "![Decoder schematic](data/neural_translation_model_decoder.png)"
      ]
    },
    {
      "cell_type": "code",
      "metadata": {
        "id": "TTAmKZGdEYzd"
      },
      "source": [
        "class Decoder(tf.keras.models.Model):\n",
        "    def __init__(self,max_tokens):\n",
        "        super(Decoder, self).__init__()\n",
        "        self.embedding_layer = tf.keras.layers.Embedding(input_dim=max_tokens+1, output_dim=128, mask_zero=True)\n",
        "        self.lstm_layer = tf.keras.layers.LSTM(512, return_state=True, return_sequences=True)\n",
        "        self.dense_layer = tf.keras.layers.Dense(units=max_tokens+1)\n",
        "    def call(self,inputer,hidden_layer=None,cell_layer=None):\n",
        "        x=self.embedding_layer(inputer)\n",
        "        x, h, c = self.lstm_layer(x, initial_state=[hidden_layer, cell_layer])\n",
        "        x=self.dense_layer(x)\n",
        "        return x,h,c"
      ],
      "execution_count": null,
      "outputs": []
    },
    {
      "cell_type": "code",
      "metadata": {
        "id": "7qBwnC9_EYze"
      },
      "source": [
        "for feature_batch, label_batch in train_data.take(1):\n",
        "    x_t = feature_batch\n",
        "    y_t = label_batch\n",
        "max_tokens=len(tokenizer.index_word)\n"
      ],
      "execution_count": null,
      "outputs": []
    },
    {
      "cell_type": "code",
      "metadata": {
        "colab": {
          "base_uri": "https://localhost:8080/"
        },
        "id": "XY3j0ZnxEYzf",
        "outputId": "147638b4-7c10-4c06-8a3f-26d4fae0d348"
      },
      "source": [
        "hidden_state, cell_state = Encoder()(x_t)\n",
        "decoder=Decoder(max_tokens)\n",
        "output, decoder_hs, decoder_cs= decoder(y_t,hidden_state,cell_state)\n",
        "print(\"output shape:\",output.shape,\"\\n\",\"hidden shape:\",decoder_hs.shape,\"\\n\",\"cell shape:\",decoder_cs.shape)\n",
        "decoder.summary()"
      ],
      "execution_count": null,
      "outputs": [
        {
          "output_type": "stream",
          "name": "stdout",
          "text": [
            "output shape: (16, 20, 5744) \n",
            " hidden shape: (16, 512) \n",
            " cell shape: (16, 512)\n",
            "Model: \"decoder_47\"\n",
            "_________________________________________________________________\n",
            "Layer (type)                 Output Shape              Param #   \n",
            "=================================================================\n",
            "embedding_47 (Embedding)     multiple                  735232    \n",
            "_________________________________________________________________\n",
            "lstm_80 (LSTM)               multiple                  1312768   \n",
            "_________________________________________________________________\n",
            "dense_47 (Dense)             multiple                  2946672   \n",
            "=================================================================\n",
            "Total params: 4,994,672\n",
            "Trainable params: 4,994,672\n",
            "Non-trainable params: 0\n",
            "_________________________________________________________________\n"
          ]
        }
      ]
    },
    {
      "cell_type": "markdown",
      "metadata": {
        "id": "BZpvEqhAEYzg"
      },
      "source": [
        "## 6. Make a custom training loop\n"
      ]
    },
    {
      "cell_type": "code",
      "metadata": {
        "id": "1IFPEu3dEYzg"
      },
      "source": [
        "optimizer= tf.keras.optimizers.Adam(learning_rate=0.001)\n",
        "losser = tf.keras.losses.SparseCategoricalCrossentropy(from_logits=True)\n",
        "encoder=Encoder()\n",
        "decoder=Decoder(5743)\n",
        "@tf.function\n",
        "def loss_fn(encoder,decoder,en_input, gr_input, gr_output, loss):\n",
        "    with tf.GradientTape() as tape:\n",
        "        hidden_s, cell_s = encoder(en_input)\n",
        "        output, hidden_s, cell_s = decoder(gr_input, hidden_s,cell_s)\n",
        "        loss_value = loss(gr_output, output)\n",
        "        return loss_value, tape.gradient(loss_value, encoder.trainable_variables+decoder.trainable_variables)\n",
        "def fit_german_shape(gr):\n",
        "    input_data = gr[:,:-1]\n",
        "    output_data = gr[:,1:]\n",
        "    return input_data,output_data\n",
        "def training(train, val,optimizer, loss,epochs=5):\n",
        "    val_loss=[]\n",
        "    tr_loss=[]\n",
        "\n",
        "    for epoch in range(epochs):\n",
        "        batch_num=0\n",
        "        batch_num2=0\n",
        "        epoch_loss=0\n",
        "        epoch_loss2=0\n",
        "        print (\"epoch number:\",epoch+1)\n",
        "        for english,germany in train:\n",
        "            gr_in,gr_out=fit_german_shape(germany)\n",
        "            loss1, grad= loss_fn(encoder,decoder,english, gr_in, gr_out, loss)\n",
        "            optimizer.apply_gradients(zip(grad,encoder.trainable_variables + decoder.trainable_variables))\n",
        "            epoch_loss=epoch_loss+loss1\n",
        "            batch_num=batch_num+1\n",
        "            if batch_num%100==0 : print (batch_num,\"/\",1000,\" loss: \",loss1)\n",
        "        avg_loss=epoch_loss/batch_num\n",
        "        print(\"In this train epoch, the training loss Tensor is: \"+str(avg_loss))\n",
        "        for english2,germany2 in val:\n",
        "            gr_in2,gr_out2=fit_german_shape(germany2)\n",
        "            #hidden_state,cell_state=model(en)\n",
        "            #pred,temp1,temp2=decoder(gr_in2,hidden_state,cell_state)\n",
        "            loss2, temp3 = loss_fn(encoder,decoder,english2, gr_in2, gr_out2,loss)\n",
        "            epoch_loss2=epoch_loss2+loss2\n",
        "            batch_num2=batch_num2+1\n",
        "            if batch_num2%100==0 : print (batch_num2,\"/\",250,\" loss: \",loss2)\n",
        "        avg_loss2=epoch_loss2/batch_num2\n",
        "        print(\"In this test epoch, the val-loss Tensor is: \"+str(avg_loss2))\n",
        "        val_loss.append(avg_loss2)\n",
        "        tr_loss.append(avg_loss)\n",
        "    return (tr_loss,val_loss)\n"
      ],
      "execution_count": null,
      "outputs": []
    },
    {
      "cell_type": "code",
      "metadata": {
        "colab": {
          "base_uri": "https://localhost:8080/"
        },
        "id": "N0mJqzqHEYzi",
        "outputId": "beeb5584-4352-4acd-c754-9189108f8b7f"
      },
      "source": [
        "\n",
        "history =training(train_data,test_data,optimizer,losser,5)"
      ],
      "execution_count": null,
      "outputs": [
        {
          "output_type": "stream",
          "name": "stdout",
          "text": [
            "epoch number: 1\n",
            "100 / 1000  loss:  tf.Tensor(1.4396588, shape=(), dtype=float32)\n",
            "200 / 1000  loss:  tf.Tensor(1.1045972, shape=(), dtype=float32)\n",
            "300 / 1000  loss:  tf.Tensor(1.2860949, shape=(), dtype=float32)\n",
            "400 / 1000  loss:  tf.Tensor(1.0985256, shape=(), dtype=float32)\n",
            "500 / 1000  loss:  tf.Tensor(1.2864181, shape=(), dtype=float32)\n",
            "600 / 1000  loss:  tf.Tensor(1.1528745, shape=(), dtype=float32)\n",
            "700 / 1000  loss:  tf.Tensor(1.0890355, shape=(), dtype=float32)\n",
            "800 / 1000  loss:  tf.Tensor(0.9633227, shape=(), dtype=float32)\n",
            "900 / 1000  loss:  tf.Tensor(1.0881802, shape=(), dtype=float32)\n",
            "1000 / 1000  loss:  tf.Tensor(1.0377702, shape=(), dtype=float32)\n",
            "In this train epoch, the training loss Tensor is: tf.Tensor(1.2677264, shape=(), dtype=float32)\n",
            "100 / 250  loss:  tf.Tensor(1.0909494, shape=(), dtype=float32)\n",
            "200 / 250  loss:  tf.Tensor(1.1757421, shape=(), dtype=float32)\n",
            "In this test epoch, the val-loss Tensor is: tf.Tensor(1.0694054, shape=(), dtype=float32)\n",
            "epoch number: 2\n",
            "100 / 1000  loss:  tf.Tensor(1.0330188, shape=(), dtype=float32)\n",
            "200 / 1000  loss:  tf.Tensor(0.93112123, shape=(), dtype=float32)\n",
            "300 / 1000  loss:  tf.Tensor(1.0712727, shape=(), dtype=float32)\n",
            "400 / 1000  loss:  tf.Tensor(0.9380919, shape=(), dtype=float32)\n",
            "500 / 1000  loss:  tf.Tensor(1.1024684, shape=(), dtype=float32)\n",
            "600 / 1000  loss:  tf.Tensor(0.9667465, shape=(), dtype=float32)\n",
            "700 / 1000  loss:  tf.Tensor(0.9784427, shape=(), dtype=float32)\n",
            "800 / 1000  loss:  tf.Tensor(0.8403756, shape=(), dtype=float32)\n",
            "900 / 1000  loss:  tf.Tensor(0.92732, shape=(), dtype=float32)\n",
            "1000 / 1000  loss:  tf.Tensor(0.9250248, shape=(), dtype=float32)\n",
            "In this train epoch, the training loss Tensor is: tf.Tensor(0.99169093, shape=(), dtype=float32)\n",
            "100 / 250  loss:  tf.Tensor(1.0355603, shape=(), dtype=float32)\n",
            "200 / 250  loss:  tf.Tensor(1.1508133, shape=(), dtype=float32)\n",
            "In this test epoch, the val-loss Tensor is: tf.Tensor(1.0058501, shape=(), dtype=float32)\n",
            "epoch number: 3\n",
            "100 / 1000  loss:  tf.Tensor(0.9081961, shape=(), dtype=float32)\n",
            "200 / 1000  loss:  tf.Tensor(0.85036457, shape=(), dtype=float32)\n",
            "300 / 1000  loss:  tf.Tensor(0.9806457, shape=(), dtype=float32)\n",
            "400 / 1000  loss:  tf.Tensor(0.8579763, shape=(), dtype=float32)\n",
            "500 / 1000  loss:  tf.Tensor(0.9775015, shape=(), dtype=float32)\n",
            "600 / 1000  loss:  tf.Tensor(0.8686852, shape=(), dtype=float32)\n",
            "700 / 1000  loss:  tf.Tensor(0.92128813, shape=(), dtype=float32)\n",
            "800 / 1000  loss:  tf.Tensor(0.77595097, shape=(), dtype=float32)\n",
            "900 / 1000  loss:  tf.Tensor(0.81594974, shape=(), dtype=float32)\n",
            "1000 / 1000  loss:  tf.Tensor(0.831793, shape=(), dtype=float32)\n",
            "In this train epoch, the training loss Tensor is: tf.Tensor(0.9011322, shape=(), dtype=float32)\n",
            "100 / 250  loss:  tf.Tensor(1.0309192, shape=(), dtype=float32)\n",
            "200 / 250  loss:  tf.Tensor(1.1243328, shape=(), dtype=float32)\n",
            "In this test epoch, the val-loss Tensor is: tf.Tensor(0.9836336, shape=(), dtype=float32)\n",
            "epoch number: 4\n",
            "100 / 1000  loss:  tf.Tensor(0.83632505, shape=(), dtype=float32)\n",
            "200 / 1000  loss:  tf.Tensor(0.7981125, shape=(), dtype=float32)\n",
            "300 / 1000  loss:  tf.Tensor(0.9156681, shape=(), dtype=float32)\n",
            "400 / 1000  loss:  tf.Tensor(0.79436064, shape=(), dtype=float32)\n",
            "500 / 1000  loss:  tf.Tensor(0.88124645, shape=(), dtype=float32)\n",
            "600 / 1000  loss:  tf.Tensor(0.8066862, shape=(), dtype=float32)\n",
            "700 / 1000  loss:  tf.Tensor(0.87065667, shape=(), dtype=float32)\n",
            "800 / 1000  loss:  tf.Tensor(0.71967304, shape=(), dtype=float32)\n",
            "900 / 1000  loss:  tf.Tensor(0.748246, shape=(), dtype=float32)\n",
            "1000 / 1000  loss:  tf.Tensor(0.75834054, shape=(), dtype=float32)\n",
            "In this train epoch, the training loss Tensor is: tf.Tensor(0.8323627, shape=(), dtype=float32)\n",
            "100 / 250  loss:  tf.Tensor(1.0297993, shape=(), dtype=float32)\n",
            "200 / 250  loss:  tf.Tensor(1.1113776, shape=(), dtype=float32)\n",
            "In this test epoch, the val-loss Tensor is: tf.Tensor(0.9799951, shape=(), dtype=float32)\n",
            "epoch number: 5\n",
            "100 / 1000  loss:  tf.Tensor(0.7755722, shape=(), dtype=float32)\n",
            "200 / 1000  loss:  tf.Tensor(0.74295276, shape=(), dtype=float32)\n",
            "300 / 1000  loss:  tf.Tensor(0.84708905, shape=(), dtype=float32)\n",
            "400 / 1000  loss:  tf.Tensor(0.72725886, shape=(), dtype=float32)\n",
            "500 / 1000  loss:  tf.Tensor(0.79646546, shape=(), dtype=float32)\n",
            "600 / 1000  loss:  tf.Tensor(0.75053483, shape=(), dtype=float32)\n",
            "700 / 1000  loss:  tf.Tensor(0.8160828, shape=(), dtype=float32)\n",
            "800 / 1000  loss:  tf.Tensor(0.66984165, shape=(), dtype=float32)\n",
            "900 / 1000  loss:  tf.Tensor(0.69419473, shape=(), dtype=float32)\n",
            "1000 / 1000  loss:  tf.Tensor(0.68891937, shape=(), dtype=float32)\n",
            "In this train epoch, the training loss Tensor is: tf.Tensor(0.77402604, shape=(), dtype=float32)\n",
            "100 / 250  loss:  tf.Tensor(1.0388192, shape=(), dtype=float32)\n",
            "200 / 250  loss:  tf.Tensor(1.1179912, shape=(), dtype=float32)\n",
            "In this test epoch, the val-loss Tensor is: tf.Tensor(0.983598, shape=(), dtype=float32)\n"
          ]
        }
      ]
    },
    {
      "cell_type": "code",
      "metadata": {
        "id": "JMtRELm5EYzj",
        "colab": {
          "base_uri": "https://localhost:8080/",
          "height": 295
        },
        "outputId": "bd1281d3-0280-4fe9-8ff2-aa81f605e4f9"
      },
      "source": [
        "import matplotlib.pyplot as plt\n",
        "\n",
        "plt.plot(history[0])\n",
        "plt.plot(history[1])\n",
        "plt.title('Loss vs. epochs')\n",
        "plt.ylabel('Loss')\n",
        "plt.xlabel('Epoch')\n",
        "plt.legend(['Training', 'Validation'], loc='upper right')\n",
        "plt.show() "
      ],
      "execution_count": null,
      "outputs": [
        {
          "output_type": "display_data",
          "data": {
            "image/png": "[encoded data removed]",
            "text/plain": [
              "<Figure size 432x288 with 1 Axes>"
            ]
          },
          "metadata": {
            "needs_background": "light"
          }
        }
      ]
    },
    {
      "cell_type": "code",
      "metadata": {
        "id": "EesuTZYNEYzj"
      },
      "source": [
        ""
      ],
      "execution_count": null,
      "outputs": []
    },
    {
      "cell_type": "code",
      "metadata": {
        "id": "MnlkIhUvEYzk"
      },
      "source": [
        ""
      ],
      "execution_count": null,
      "outputs": []
    },
    {
      "cell_type": "code",
      "metadata": {
        "id": "TVytecCHEYzk"
      },
      "source": [
        ""
      ],
      "execution_count": null,
      "outputs": []
    },
    {
      "cell_type": "code",
      "metadata": {
        "id": "PH6w7XG5h-Wz"
      },
      "source": [
        ""
      ],
      "execution_count": null,
      "outputs": []
    },
    {
      "cell_type": "code",
      "metadata": {
        "id": "SM0-QhnREYzm"
      },
      "source": [
        ""
      ],
      "execution_count": null,
      "outputs": []
    },
    {
      "cell_type": "code",
      "metadata": {
        "id": "kK-CyD2xEYzm"
      },
      "source": [
        ""
      ],
      "execution_count": null,
      "outputs": []
    }
  ]
}